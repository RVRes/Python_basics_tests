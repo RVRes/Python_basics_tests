{
 "cells": [
  {
   "cell_type": "code",
   "execution_count": 2,
   "metadata": {
    "collapsed": true,
    "pycharm": {
     "name": "#%%\n"
    }
   },
   "outputs": [],
   "source": [
    "# Нарисуй табличку со случайными числами. Настройки: количество столбцов, количество строк, диапазон чисел. Табличка должна быть ровной."
   ]
  },
  {
   "cell_type": "code",
   "execution_count": 4,
   "outputs": [],
   "source": [
    "# Преобразуй строки в список - 1 элемент = 1 буква, пробелов и других знаков в списке быть не должно. Решение должно занимать не больше 1 строки.\n",
    "# итоговый список: ['a', 'b', 'c' ...] во всех случаях\n",
    "st_1 = 'abcdefghijklmn'\n",
    "st_2 = 'a b c d e f g h i j k l m n'\n",
    "st_3 = 'a-b-c-d-e-f-g-h-i-j-k-l-m-n'"
   ],
   "metadata": {
    "collapsed": false,
    "pycharm": {
     "name": "#%%\n"
    }
   }
  },
  {
   "cell_type": "code",
   "execution_count": 4,
   "outputs": [],
   "source": [
    "# Убери все значения из списка, которые делятся либо на 2 либо на 3 либо на 4. Решение должно быть в 1 строку. Не использовать list comprehension\n",
    "lst_1 = [5, 6, 8, 18, 3, -2, 11, 15]"
   ],
   "metadata": {
    "collapsed": false,
    "pycharm": {
     "name": "#%%\n"
    }
   }
  },
  {
   "cell_type": "code",
   "execution_count": 6,
   "outputs": [],
   "source": [
    "# Убери все значения из списка, для которых сумма чисел внутри кортежа > 10. Решение должно быть в 1 строку. Не использовать list comprehension\n",
    "lst_1 = [(3,4,), (-10,11,), (5,6,), (-100,110,), (30,-10,), (1,2,)]"
   ],
   "metadata": {
    "collapsed": false,
    "pycharm": {
     "name": "#%%\n"
    }
   }
  },
  {
   "cell_type": "code",
   "execution_count": 7,
   "outputs": [],
   "source": [
    "# Отсортируй список по наименьшему элементу из кортежа. Сами кортежи должны остаться без изменений. Решение должно быть в 1 строку.\n",
    "lst_1 = [(10, 11, 12,), (5, 4, 3,), (10, -10,), (100,), (20, 1, 3,)]"
   ],
   "metadata": {
    "collapsed": false,
    "pycharm": {
     "name": "#%%\n"
    }
   }
  },
  {
   "cell_type": "code",
   "execution_count": 8,
   "outputs": [],
   "source": [
    "# Модифицируй список. Результирующий список должен содержать третью степень элемента из исходного списка минус 1. Решение должно быть 1 строку.\n",
    "# решить 2 cпособами: list comprehension / map\n",
    "lst_1 = [3, -1, -6, 10, 5]"
   ],
   "metadata": {
    "collapsed": false,
    "pycharm": {
     "name": "#%%\n"
    }
   }
  },
  {
   "cell_type": "code",
   "execution_count": 9,
   "outputs": [],
   "source": [
    "# Модифицируй список. Результирующий список должен содержать большее из двух (1. квадрат элемента. 2 элемент умноженный на 5).\n",
    "# Все что нельзя вычислить должно отсутствовать в результирующем списке (не должно быть пустых элементов). Решение должно быть 1 строку.\n",
    "# решить 2 cпособами: list comprehension / map\n",
    "lst_1 = ['5', '-1', 'b', '0', '6', '-10', '11', 'five']"
   ],
   "metadata": {
    "collapsed": false,
    "pycharm": {
     "name": "#%%\n"
    }
   }
  },
  {
   "cell_type": "code",
   "execution_count": 14,
   "outputs": [],
   "source": [
    "lst_1 = [1, 4, 1, 0, 8, 5, 7, 2 , 3, 3, 1]\n",
    "# инвертировать список используя строковой метод\n",
    "# отсортировать по убыванию используя строковой метод\n",
    "# найти индекс элемента 3 в списке, объяснить такое поведение метода, что можно сделать, чтобы получить индекс второй тройки?\n",
    "# найти индекс числа 6. Объяснить поведение и как избежать ошибки.\n",
    "# посчитать количество элементов, равных 1 в списке."
   ],
   "metadata": {
    "collapsed": false,
    "pycharm": {
     "name": "#%%\n"
    }
   }
  },
  {
   "cell_type": "code",
   "execution_count": 15,
   "outputs": [],
   "source": [
    "st_1 = 'abcd'\n",
    "st_2 = '32145678'\n",
    "# Сделать список из кортежей: [('a',3,), ('b',2,), ('c',1,), ('d',4,)]. Лишнее отбросить. В 1 строку."
   ],
   "metadata": {
    "collapsed": false,
    "pycharm": {
     "name": "#%%\n"
    }
   }
  },
  {
   "cell_type": "code",
   "execution_count": 16,
   "outputs": [],
   "source": [
    "st_1 = 'abcdefgi'\n",
    "st_2 = 'zcxyuafz'\n",
    "# получить на выходе сумму строк содержащую только уникальные элементы. Решение в 1 строку."
   ],
   "metadata": {
    "collapsed": false,
    "pycharm": {
     "name": "#%%\n"
    }
   }
  },
  {
   "cell_type": "code",
   "execution_count": 17,
   "outputs": [],
   "source": [
    "# сгенерировать список от 1 до 100, исключить все числа кратные 3 и 5. В 1 строку."
   ],
   "metadata": {
    "collapsed": false,
    "pycharm": {
     "name": "#%%\n"
    }
   }
  },
  {
   "cell_type": "code",
   "execution_count": 20,
   "outputs": [],
   "source": [
    "lst_1 = [-1, 5, 10, 3, -11, 7, 12]\n",
    "a = 3\n",
    "b = 13\n",
    "# проверить, что переменная a есть в списке\n",
    "# проверить, что переменной b нет в списке\n",
    "# получить список из 3 максимальных элементов. Решение в 1 строку."
   ],
   "metadata": {
    "collapsed": false,
    "pycharm": {
     "name": "#%%\n"
    }
   }
  },
  {
   "cell_type": "code",
   "execution_count": 22,
   "outputs": [],
   "source": [
    "lst_1 = ['a', 2, 'b', 3, 'c', 4, 'e', 5]\n",
    "# вывести 2 элемент\n",
    "# вывести предпоследний элемент\n",
    "# инвертировать список (несколько способов)\n",
    "# вывести с 3 по 5 элементы\n",
    "# перебрать по значениям и вывести элементы\n",
    "# перебрать через длину списка, вывести элементы"
   ],
   "metadata": {
    "collapsed": false,
    "pycharm": {
     "name": "#%%\n"
    }
   }
  },
  {
   "cell_type": "code",
   "execution_count": 23,
   "outputs": [],
   "source": [
    "lst_1 = ['Alena', 'Vika', 'Anna']\n",
    "lst_2 = ['Ivan', 'Sergey', 'Roman']\n",
    "# сложить списки"
   ],
   "metadata": {
    "collapsed": false,
    "pycharm": {
     "name": "#%%\n"
    }
   }
  },
  {
   "cell_type": "code",
   "execution_count": 27,
   "outputs": [],
   "source": [
    "lst_1 = ['Alena', 'Vika', 'Anna', 'Ivan', 'Sergey', 'Roman']\n",
    "# удалить последний элемент и положить его в переменную (1 строка)\n",
    "# удалить 2 элемент и положить его значение в переменную (1 строка)\n",
    "# добавить элемент 'Petr' в конец списка\n",
    "# отсортировать список функцией сортировки и строковым методом для сортировки. Объяснить, в чем разница. Что такое inplace методы?\n",
    "# отсортировать список по длине элементов. (1 строка, 1 строковой метод)\n",
    "# вставить 'Olga' между вторым и 3м элементом"
   ],
   "metadata": {
    "collapsed": false,
    "pycharm": {
     "name": "#%%\n"
    }
   }
  },
  {
   "cell_type": "code",
   "execution_count": 1,
   "outputs": [],
   "source": [
    "lst_1 = [1, 2, 3, 9, 5, 6]\n",
    "# Сделать копию списка, найти индекс элемента со значением 9, заменить его на 4. Убедиться, что изменился только элемент в копии списка. Если это не так, переделать."
   ],
   "metadata": {
    "collapsed": false,
    "pycharm": {
     "name": "#%%\n"
    }
   }
  },
  {
   "cell_type": "code",
   "execution_count": 6,
   "outputs": [],
   "source": [
    "lst_1 = [[1, 2, 3], [4, 8, 6]]\n",
    "# Сделать копию списка, заменить элемент со значением 8, на 5. Убедиться, что изменился только элемент в копии списка. Если это не так, переделать."
   ],
   "metadata": {
    "collapsed": false,
    "pycharm": {
     "name": "#%%\n"
    }
   }
  },
  {
   "cell_type": "code",
   "execution_count": null,
   "outputs": [],
   "source": [
    "lst_1 = [3, 10, -1, 3, 2, 7, 5, 0, -100]\n",
    "# Найти сколько символов занимает самый длинный элемент списка. Ответ в примере: 4. Решение в 1 строку."
   ],
   "metadata": {
    "collapsed": false,
    "pycharm": {
     "name": "#%%\n"
    }
   }
  },
  {
   "cell_type": "code",
   "execution_count": null,
   "outputs": [],
   "source": [
    "lst_1 = [(0, 10), (-5, 7), (-17, -2), (100, 105), (-9, -16), (45, 38)]\n",
    "# Каждый кортеж представляет собой координаты 2 точек на прямой. Отсортируй список по уменьшению расстояния между точками. Решение в 1 строку."
   ],
   "metadata": {
    "collapsed": false,
    "pycharm": {
     "name": "#%%\n"
    }
   }
  }
 ],
 "metadata": {
  "kernelspec": {
   "display_name": "Python 3",
   "language": "python",
   "name": "python3"
  },
  "language_info": {
   "codemirror_mode": {
    "name": "ipython",
    "version": 2
   },
   "file_extension": ".py",
   "mimetype": "text/x-python",
   "name": "python",
   "nbconvert_exporter": "python",
   "pygments_lexer": "ipython2",
   "version": "2.7.6"
  }
 },
 "nbformat": 4,
 "nbformat_minor": 0
}