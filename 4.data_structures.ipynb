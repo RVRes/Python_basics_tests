{
 "cells": [
  {
   "cell_type": "code",
   "execution_count": null,
   "metadata": {
    "collapsed": true,
    "pycharm": {
     "name": "#%%\n"
    }
   },
   "outputs": [],
   "source": [
    "# Что такое closures (замыкания)?\n",
    "# как их найти?\n",
    "# чем они удобны?\n",
    "# Чем отличаются от named tuples?\n",
    "# Чем отличаются от классов?\n",
    "# Напишите функцию, позволяющую добавлять имена в список и возвращающую его используя closure.\n",
    "# Напишите функцию, счетчик, который может получать инкремент и вовзвращать значение, используя closure.\n",
    "# Обратитесь напрямую к скрытой переменнй обеих функций в замыкании."
   ]
  },
  {
   "cell_type": "code",
   "execution_count": 1,
   "outputs": [],
   "source": [
    "# что такое named tuples?\n",
    "# Создайте named tuple: Book, Author, ISDN"
   ],
   "metadata": {
    "collapsed": false,
    "pycharm": {
     "name": "#%%\n"
    }
   }
  },
  {
   "cell_type": "code",
   "execution_count": 2,
   "outputs": [],
   "source": [
    "# что такое Data Class?\n",
    "# чем отличается от обычного класса?\n",
    "# чем отличается от named tuple?\n",
    "# создайте пример data class."
   ],
   "metadata": {
    "collapsed": false,
    "pycharm": {
     "name": "#%%\n"
    }
   }
  },
  {
   "cell_type": "code",
   "execution_count": null,
   "outputs": [],
   "source": [],
   "metadata": {
    "collapsed": false,
    "pycharm": {
     "name": "#%%\n"
    }
   }
  }
 ],
 "metadata": {
  "kernelspec": {
   "display_name": "Python 3",
   "language": "python",
   "name": "python3"
  },
  "language_info": {
   "codemirror_mode": {
    "name": "ipython",
    "version": 2
   },
   "file_extension": ".py",
   "mimetype": "text/x-python",
   "name": "python",
   "nbconvert_exporter": "python",
   "pygments_lexer": "ipython2",
   "version": "2.7.6"
  }
 },
 "nbformat": 4,
 "nbformat_minor": 0
}