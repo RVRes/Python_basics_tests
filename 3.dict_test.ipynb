{
 "cells": [
  {
   "cell_type": "code",
   "execution_count": null,
   "metadata": {
    "collapsed": true
   },
   "outputs": [],
   "source": [
    "st_1 = 'abcdefgh'\n",
    "st_2 = '32145678'\n",
    "# сделать cловарь: {3 : 'a', 2: 'b', 1: 'c'}.  в 1 строку\n",
    "# поменять у полученного словаря ключи и значения местами. в 1 строку.\n",
    "# сложить 2 словаря. (получив все ключи и значения обоих словарей в одном). в 1 строку\n",
    "# вывести все словари делая между ними отступ в 1 строку. в 1 строку."
   ]
  }
 ],
 "metadata": {
  "kernelspec": {
   "display_name": "Python 3",
   "language": "python",
   "name": "python3"
  },
  "language_info": {
   "codemirror_mode": {
    "name": "ipython",
    "version": 2
   },
   "file_extension": ".py",
   "mimetype": "text/x-python",
   "name": "python",
   "nbconvert_exporter": "python",
   "pygments_lexer": "ipython2",
   "version": "2.7.6"
  }
 },
 "nbformat": 4,
 "nbformat_minor": 0
}